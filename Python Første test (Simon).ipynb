{
 "cells": [
  {
   "cell_type": "markdown",
   "metadata": {},
   "source": [
    "# Test intro (Markdown)\n",
    "\n",
    "Aner ikke hvad der kommer til at være nedenfor"
   ]
  },
  {
   "cell_type": "markdown",
   "metadata": {},
   "source": [
    "### Variabler\n",
    "\n",
    "i Python er der ingen{} eller ;, det hele er baseret på linjeskrift og indtruk. det har både fordele og ulemper **fordele og ulemper**\n",
    "Det er vigtigt at holde sig for øje at det nøjagtige antal *mellemrum/spaces* har indflydelse på det såkaldte **scope**. Mere om det senere.\n",
    "\n",
    "Yderligere kræver Python ikke en specifikation af datatype til variablen.\n",
    "\n",
    "HUSK at \"Run\" efter en ændring"
   ]
  },
  {
   "cell_type": "code",
   "execution_count": 16,
   "metadata": {},
   "outputs": [],
   "source": [
    "#Lad os oprette lidt variabler. Variabler kan hedde Hvad SOM HELST\n",
    "\n",
    "#Variabel der indeholder HELTAL kaldet Int eller integers på engelsk\n",
    "\n",
    "a = 4\n",
    "Far = 137\n",
    "Mor = 32\n",
    "\n",
    "\n",
    "#MEEEEEN ingen æøå eller specialtegn\n",
    "\n",
    "pølse = 5\n",
    "\n",
    "#Kald dem noget forståeligt og brugbart som f.eks.\n",
    "\n",
    "antal_hjul = 4\n",
    "healt = 100\n",
    "ammo = 32\n",
    "Speed = 47\n",
    "#osv. osv. osv.\n",
    "\n",
    "#variabel der indeholder KOMMATAL kaldes Float på engelsk\n",
    "b = 2.7\n",
    "\n",
    "#Variabler der indeholder TEKST kaldt String på engelsk\n",
    "c = \"wow\"\n",
    "\n",
    "#varialber der indeholder Boolske værdiger, altså SANDT/FALSK (eller BOOL/BOOLEAN på engelsk)\n",
    "d = False\n",
    "\n",
    "#pas på vi kan lave rod i det hele\n",
    "E = \"WOW\"\n",
    "\n",
    "\n",
    "\n"
   ]
  },
  {
   "cell_type": "code",
   "execution_count": 17,
   "metadata": {},
   "outputs": [
    {
     "name": "stdout",
     "output_type": "stream",
     "text": [
      "137\n"
     ]
    }
   ],
   "source": [
    "#For at undersøge hvad vi har at gøre med i forskellige variabler, kan vi bruge print().\n",
    "\n",
    "print(Far)"
   ]
  },
  {
   "cell_type": "code",
   "execution_count": 18,
   "metadata": {},
   "outputs": [
    {
     "name": "stdout",
     "output_type": "stream",
     "text": [
      "<class 'int'>\n",
      "<class 'float'>\n",
      "<class 'str'>\n",
      "<class 'bool'>\n"
     ]
    }
   ],
   "source": [
    "#Ofte har vi brug for at se  præcis hvilken type en variabel er. til dette kan vi bruge funktionen Type().\n",
    "\n",
    "print(type(Far))\n",
    "print(type(b))\n",
    "print(type(c))\n",
    "print(type(d))\n"
   ]
  },
  {
   "cell_type": "markdown",
   "metadata": {},
   "source": [
    "## If Else Elif"
   ]
  },
  {
   "cell_type": "code",
   "execution_count": 19,
   "metadata": {},
   "outputs": [
    {
     "name": "stdout",
     "output_type": "stream",
     "text": [
      "Far er tyk\n"
     ]
    }
   ],
   "source": [
    "if Far > 100:\n",
    "    print(\"Far er tyk\")"
   ]
  },
  {
   "cell_type": "markdown",
   "metadata": {},
   "source": [
    "## Spil"
   ]
  },
  {
   "cell_type": "code",
   "execution_count": 26,
   "metadata": {},
   "outputs": [
    {
     "name": "stdout",
     "output_type": "stream",
     "text": [
      "Det er en mørk og blæsene aften ude på landet...\n",
      "Du er lige kommet ud på dit første eventur sammen med din trofasten hund Jake\n",
      "Du står nu over for et valg du kan enten tage stigen det går til højre eller venstre\n",
      "Hvor vil du hen? v/hv\n",
      "Du valgte at gå til venstre\n",
      "Jeg håber at jeg ikke hat taget den forkerte vej her et hovedstaden\n",
      "Du er nu på vej hen til den mørkeskov\n",
      "På din vej hen til skoven faldt du et skelet med et svær\n",
      "hmm jeg ved ikke om jeg kommer til at få brug for det eller ej\n",
      "Vil du samle sværet op? j/nj\n",
      "Du har nu fået addet *et rustent svær* til dit inventar\n",
      "Jeg kan måske få brug for den i hovedstaden\n"
     ]
    }
   ],
   "source": [
    "state = 0\n",
    "\n",
    "if state == 0:\n",
    "    print(\"Det er en mørk og blæsene aften ude på landet...\")\n",
    "    print(\"Du er lige kommet ud på dit første eventur sammen med din trofasten hund Jake\")\n",
    "    print(\"Du står nu over for et valg du kan enten tage stigen det går til højre eller venstre\")\n",
    "    Valg = input(\"Hvor vil du hen? v/h\")\n",
    "    \n",
    "    if Valg == \"v\" or Valg == \"V\":\n",
    "        state = 1\n",
    "        print(\"Du valgte at gå til venstre\")\n",
    "    elif Valg == \"h\" or Valg == \"H\":\n",
    "        state = 2\n",
    "        print(\"Du valgte at gå til højre\")\n",
    "    else:\n",
    "        print(\"Hvis du ikke kan læse så fuck tilbage til skolen med dig!!!\")\n",
    "        \n",
    "if state == 1:\n",
    "    print(\"Jeg håber at jeg ikke hat taget den forkerte vej her et hovedstaden\")\n",
    "    print(\"Du er nu på vej hen til den mørkeskov\")\n",
    "    print(\"På din vej hen til skoven faldt du et skelet med et svær\")\n",
    "    print(\"hmm jeg ved ikke om jeg kommer til at få brug for det eller ej\")\n",
    "    Valg = input (\"Vil du samle sværet op? j/n\")\n",
    "    \n",
    "    if Valg == \"j\" or Valg == \"J\":\n",
    "        state = 3\n",
    "        print(\"Du har nu fået addet *et rustent svær* til dit inventar\")\n",
    "        print(\"Jeg kan måske få brug for den i hovedstaden\")\n",
    "    elif Valg == \"n\" or Valg == \"N\":\n",
    "        state = 4\n",
    "        print(\"Du valgte ikke at samle sværet op\")\n",
    "        print(\"Jeg kommer nok ikke til at få brug for det\")\n",
    "    else:\n",
    "        print(\"Beslut dig din fucking sæk!!!\")\n",
    "\n",
    "if state == 3:\n",
    "    print(\"\")\n",
    "        \n",
    "if state == 2:\n",
    "    print(\"Jeg håber at jeg ikke har taget den forkerte vej her et hovedstaden\")\n",
    "    print(\"Du er nu på din vej hen til hovedstaden\")\n",
    "    "
   ]
  },
  {
   "cell_type": "code",
   "execution_count": null,
   "metadata": {},
   "outputs": [],
   "source": []
  }
 ],
 "metadata": {
  "kernelspec": {
   "display_name": "Python 3",
   "language": "python",
   "name": "python3"
  },
  "language_info": {
   "codemirror_mode": {
    "name": "ipython",
    "version": 3
   },
   "file_extension": ".py",
   "mimetype": "text/x-python",
   "name": "python",
   "nbconvert_exporter": "python",
   "pygments_lexer": "ipython3",
   "version": "3.7.1"
  }
 },
 "nbformat": 4,
 "nbformat_minor": 2
}
